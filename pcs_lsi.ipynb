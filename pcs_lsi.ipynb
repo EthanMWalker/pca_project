{
 "cells": [
  {
   "cell_type": "markdown",
   "metadata": {},
   "source": [
    "Volume 3: PCA_LSI\n",
    "Name:\n",
    "Class:\n",
    "Date:"
   ]
  },
  {
   "cell_type": "code",
   "execution_count": 1,
   "metadata": {},
   "outputs": [],
   "source": [
    "import os\n",
    "import string\n",
    "import numpy as np\n",
    "from math import log\n",
    "from scipy import sparse\n",
    "from sklearn import datasets\n",
    "from scipy import linalg as la\n",
    "from collections import Counter\n",
    "from matplotlib import pyplot as plt\n",
    "from scipy.sparse import linalg as spla\n",
    "from sklearn.pipeline import Pipeline\n",
    "from sklearn.decomposition import PCA\n",
    "from sklearn.model_selection import GridSearchCV\n",
    "from sklearn.ensemble import RandomForestClassifier\n",
    "from sklearn.datasets import load_iris\n",
    "from sklearn.model_selection import train_test_split\n",
    "import time"
   ]
  },
  {
   "cell_type": "code",
   "execution_count": 2,
   "metadata": {},
   "outputs": [],
   "source": [
    "def prob1(l=2):\n",
    "    \"\"\"Recreates the plot shown\n",
    "    in Figure 1.4 by performing PCA on the iris dataset,\n",
    "    keeping the first two principal components.\"\"\"\n",
    "    \n",
    "#     load in data\n",
    "    iris = load_iris()\n",
    "    data = iris.data\n",
    "    \n",
    "#     create normalized data\n",
    "    Y = np.zeros_like(data)\n",
    "    Y = data - np.mean(data, axis=0)\n",
    "    \n",
    "#     compute svd\n",
    "    U, S, Vh = la.svd(Y, full_matrices=False)\n",
    "    \n",
    "#     transform the data\n",
    "    trans = Y@Vh.T[:,:l]\n",
    "    \n",
    "    return trans"
   ]
  },
  {
   "cell_type": "code",
   "execution_count": 3,
   "metadata": {},
   "outputs": [
    {
     "data": {
      "image/png": "[encoded data removed]",
      "text/plain": [
       "<Figure size 432x288 with 1 Axes>"
      ]
     },
     "metadata": {
      "needs_background": "light"
     },
     "output_type": "display_data"
    }
   ],
   "source": [
    "Y = prob1()\n",
    "# plot the transformed data\n",
    "setosa = load_iris().target == 0\n",
    "versic = load_iris().target == 1\n",
    "virgin = load_iris().target == 2\n",
    "\n",
    "plt.scatter(Y[setosa][:,0], Y[setosa][:,1], marker='.', label='Setosa')\n",
    "plt.scatter(Y[versic][:,0], Y[versic][:,1], marker='.', label='Versicolor')\n",
    "plt.scatter(Y[virgin][:,0], Y[virgin][:,1], marker='.', label='Virginica')\n",
    "plt.legend()\n",
    "plt.xlim(-4,4)\n",
    "plt.ylim(-4,4)\n",
    "plt.title('Principal Component Analysis of Iris data set')\n",
    "plt.xlabel('First Principal Component')\n",
    "plt.ylabel('Second Principal Component')\n",
    "plt.show()"
   ]
  },
  {
   "cell_type": "code",
   "execution_count": 4,
   "metadata": {},
   "outputs": [],
   "source": [
    "def similar(i, Xhat):\n",
    "    \"\"\"\n",
    "    Takes a document and returns the index of\n",
    "    two documents. The one that is the most similar \n",
    "    and the one that is the least similar.\n",
    "    \n",
    "    Parameters:\n",
    "    i index of a document\n",
    "    Xhat decomposed data\n",
    "    \n",
    "    Returns:\n",
    "    index_min: index of the document most similar to document i\n",
    "    index_max: index of the document least similar to document i\n",
    "    \"\"\"\n",
    "    \n",
    "#     create an array to hold the dot products\n",
    "    dots = np.zeros(Xhat.shape[0])\n",
    "    \n",
    "#     find the normalized dot products\n",
    "    for k in range(len(Xhat)):\n",
    "        norm = (la.norm(Xhat[i]) * (la.norm(Xhat[k])))\n",
    "        dots[k] = np.dot(Xhat[k], Xhat[i]) / norm\n",
    "    \n",
    "#     sort to find the greatest and least angles\n",
    "    sort = np.argsort(dots)\n",
    "    small = sort[0]\n",
    "    big = sort[-2]\n",
    "    \n",
    "    return big, small"
   ]
  },
  {
   "cell_type": "code",
   "execution_count": 5,
   "metadata": {},
   "outputs": [
    {
     "data": {
      "text/plain": [
       "(21, 123)"
      ]
     },
     "execution_count": 5,
     "metadata": {},
     "output_type": "execute_result"
    }
   ],
   "source": [
    "similar(20, Y)"
   ]
  },
  {
   "cell_type": "code",
   "execution_count": 6,
   "metadata": {},
   "outputs": [],
   "source": [
    "def document_converter():\n",
    "    '''\n",
    "    Converts speech documents into an n by m array where m is the number \n",
    "    of vocabulary words and n is the number of documents\n",
    "    \n",
    "    Returns:\n",
    "    X sparse matrix (n x m): Each row represents a document\n",
    "    paths (list): list where each element is a speech path eg: path[0] is './Addresses/1990-Bush.txt'\n",
    "    '''\n",
    "    # Get list of filepaths to each text file in the folder.\n",
    "    folder = \"./Addresses/\"\n",
    "    paths = [folder+p for p in os.listdir(folder) if p.endswith(\".txt\")]\n",
    "\n",
    "    # Helper function to get list of words in a string.\n",
    "    def extractWords(text):\n",
    "        ignore = string.punctuation + string.digits\n",
    "        cleaned = \"\".join([t for t in text.strip() if t not in ignore])\n",
    "        return cleaned.lower().split()\n",
    "\n",
    "    # Initialize vocab set, then read each file and add to the vocab set.\n",
    "    vocab = set()\n",
    "    for p in paths:\n",
    "        with open(p, 'r') as infile:\n",
    "            for line in infile:\n",
    "                vocab.update(extractWords(line)) #union sets together\n",
    "\n",
    "\n",
    "    # load stopwords\n",
    "    with open(\"stopwords.txt\", 'r') as f:\n",
    "        stops = set([w.strip().lower() for w in f.readlines()])\n",
    "\n",
    "    # remove stopwords from vocabulary, create ordering\n",
    "    vocab = {w:i for i, w in enumerate(vocab.difference(stops))}\n",
    "\n",
    "\n",
    "    counts = []      # holds the entries of X\n",
    "    doc_index = []   # holds the row index of X\n",
    "    word_index = []  # holds the column index of X\n",
    "\n",
    "    # Iterate through the documents.\n",
    "    for doc, p in enumerate(paths):\n",
    "        with open(p, 'r') as f:\n",
    "            # Create the word counter.\n",
    "            ctr = Counter()\n",
    "            for line in f:\n",
    "                ctr.update(extractWords(line))\n",
    "            # Iterate through the word counter, store counts.\n",
    "            for word, count in ctr.items():\n",
    "                if word in vocab:\n",
    "                    word_index.append(vocab[word])\n",
    "                    counts.append(count)\n",
    "                    doc_index.append(doc)\n",
    "\n",
    "    # Create sparse matrix holding these word counts.\n",
    "    X = sparse.csr_matrix((counts, [doc_index, word_index]),\n",
    "                           shape=(len(paths), len(vocab)), dtype=np.float)\n",
    "    return X, paths"
   ]
  },
  {
   "cell_type": "code",
   "execution_count": 7,
   "metadata": {},
   "outputs": [],
   "source": [
    "def prob3(speech='./Addresses/1984-Reagan.txt', l=7):\n",
    "    \"\"\"\n",
    "    Uses LSI, applied to the word count matrix X, with the first 7 principal\n",
    "    components to find the most similar and least similar speeches\n",
    "\n",
    "    Parameters:\n",
    "        speech str: Path to speech eg: \"./Addresses/1984-Reagan.txt\"\n",
    "        l (int): Number of principal components\n",
    "\n",
    "    Returns:\n",
    "        tuple of str: (Most similar speech, least similar speech)\n",
    "    \"\"\"\n",
    "    \n",
    "#     get the data on the documents\n",
    "    X, paths = document_converter()\n",
    "    index = paths.index(speech)\n",
    "    \n",
    "#     do svd\n",
    "    U,S,Vh = spla.svds(X)\n",
    "    Xhat = X@Vh.T[:,:l]\n",
    "    \n",
    "#     find the most and least similar speeches\n",
    "    most, least = similar(index, Xhat)\n",
    "    \n",
    "    return paths[most][12:-4], paths[least][12:-4]\n",
    "    "
   ]
  },
  {
   "cell_type": "code",
   "execution_count": 8,
   "metadata": {},
   "outputs": [
    {
     "data": {
      "text/plain": [
       "('1988-Reagan', '1946-Truman')"
      ]
     },
     "execution_count": 8,
     "metadata": {},
     "output_type": "execute_result"
    }
   ],
   "source": [
    "prob3()"
   ]
  },
  {
   "cell_type": "code",
   "execution_count": 9,
   "metadata": {},
   "outputs": [],
   "source": [
    "def weighted_document_converter():\n",
    "    '''\n",
    "    Converts speech documents into an n by m array where m is the number \n",
    "    of vocabulary words and n is the number of documents. It gives weights\n",
    "    to the most important words in the vocabulary.\n",
    "    \n",
    "    Returns:\n",
    "    X sparse matrix (n x m): Each row represents a document\n",
    "    paths (list): list where each element is a speech path eg: path[0] is './Addresses/1990-Bush.txt'\n",
    "    '''\n",
    "    # Get list of filepaths to each text file in the folder.\n",
    "    folder = \"./Addresses/\"\n",
    "    paths = [folder+p for p in os.listdir(folder) if p.endswith(\".txt\")]\n",
    "\n",
    "    # Helper function to get list of words in a string.\n",
    "    def extractWords(text):\n",
    "        ignore = string.punctuation + string.digits\n",
    "        cleaned = \"\".join([t for t in text.strip() if t not in ignore])\n",
    "        return cleaned.lower().split()\n",
    "\n",
    "    # Initialize vocab set, then read each file and add to the vocab set.\n",
    "    vocab = set()\n",
    "    for p in paths:\n",
    "        with open(p, 'r') as infile:\n",
    "            for line in infile:\n",
    "                vocab.update(extractWords(line))\n",
    "\n",
    "\n",
    "    # load stopwords\n",
    "    with open(\"stopwords.txt\", 'r') as f:\n",
    "        stops = set([w.strip().lower() for w in f.readlines()])\n",
    "\n",
    "    # remove stopwords from vocabulary, create ordering\n",
    "    vocab = {w:i for i, w in enumerate(vocab.difference(stops))}\n",
    "\n",
    "    t = np.zeros(len(vocab))\n",
    "    counts = []\n",
    "    doc_index = []\n",
    "    word_index = []\n",
    "\n",
    "    # get doc-term counts and global term counts\n",
    "    for doc, path in enumerate(paths):\n",
    "        with open(path, 'r') as f:\n",
    "            # create the word counter\n",
    "            ctr = Counter()\n",
    "            for line in f:\n",
    "                words = extractWords(line)\n",
    "                ctr.update(words)\n",
    "            # iterate through the word counter, store counts\n",
    "            for word, count in ctr.items():\n",
    "                if word in vocab:\n",
    "                    word_ind = vocab[word]\n",
    "                    word_index.append(word_ind)\n",
    "                    counts.append(count)\n",
    "                    doc_index.append(doc)\n",
    "                    t[word_ind] += count\n",
    "\n",
    "    #Problem 4 Get global weights.\n",
    "    word_index = np.array(word_index)\n",
    "    doc_index = np.array(doc_index)\n",
    "    counts = np.array(counts) \n",
    "    \n",
    "    m = len(paths)\n",
    "    \n",
    "#     run the calculations needed for the weighted matrix\n",
    "    p = np.zeros(len(counts))\n",
    "    for i,c in enumerate(counts):\n",
    "        p[i] = (c / t[word_index[i]])\n",
    "        \n",
    "    g = np.ones(len(vocab))\n",
    "    for j, p_val in zip(word_index,p):\n",
    "        g[j] += p_val*np.log(p_val+1)/np.log(m)\n",
    "    \n",
    "    A = np.zeros(len(counts))\n",
    "    for i, (j,count) in enumerate(zip(word_index, counts)):\n",
    "        A[i] = g[j] * np.log(count+1)\n",
    "    \n",
    "    \n",
    "    A = sparse.csr_matrix((A, [doc_index, word_index]),\n",
    "                           shape=(len(paths), len(vocab)), dtype=np.float)\n",
    "    \n",
    "    return A, paths"
   ]
  },
  {
   "cell_type": "code",
   "execution_count": 10,
   "metadata": {},
   "outputs": [
    {
     "data": {
      "text/plain": [
       "['./Addresses/1992-Bush.txt',\n",
       " './Addresses/2006-GWBush.txt',\n",
       " './Addresses/1984-Reagan.txt',\n",
       " './Addresses/1945-Truman.txt',\n",
       " './Addresses/1999-Clinton.txt']"
      ]
     },
     "execution_count": 10,
     "metadata": {},
     "output_type": "execute_result"
    }
   ],
   "source": [
    "A, paths = weighted_document_converter()\n",
    "paths[:5]"
   ]
  },
  {
   "cell_type": "code",
   "execution_count": 11,
   "metadata": {},
   "outputs": [],
   "source": [
    "def prob5(speech='./Addresses/1993-Clinton.txt', l=7):\n",
    "    \"\"\"\n",
    "    Uses LSI, applied to the globally weighted word count matrix A, with the\n",
    "    first 7 principal components to find the most similar and least similar speeches\n",
    "\n",
    "    Parameters:\n",
    "        speech str: Path to speech eg: \"./Addresses/1984-Reagan.txt\"\n",
    "        l (int): Number of principal components\n",
    "\n",
    "    Returns:\n",
    "        tuple of str: (Most similar speech, least similar speech)\n",
    "    \"\"\"\n",
    "    \n",
    "#     get weighted matrix\n",
    "    X, paths = weighted_document_converter()\n",
    "    index = paths.index(speech)\n",
    "    \n",
    "#     do pca\n",
    "    pca= PCA(n_components=l)\n",
    "    Xhat = pca.fit_transform(X.toarray())\n",
    "        \n",
    "    most, least = similar(index, Xhat)\n",
    "    \n",
    "    return paths[most][12:-4], paths[least][12:-4]"
   ]
  },
  {
   "cell_type": "code",
   "execution_count": 12,
   "metadata": {},
   "outputs": [
    {
     "data": {
      "text/plain": [
       "('1994-Clinton', '1951-Truman')"
      ]
     },
     "execution_count": 12,
     "metadata": {},
     "output_type": "execute_result"
    }
   ],
   "source": [
    "prob5()"
   ]
  },
  {
   "cell_type": "code",
   "execution_count": 13,
   "metadata": {
    "scrolled": false
   },
   "outputs": [],
   "source": [
    "def prob6():\n",
    "    '''\n",
    "    Create a pipeline and grid search to find the best combination \n",
    "    of PCA truncation and random forest classifier for the iris \n",
    "    dataset. Return the best paramters and score in a tuple. \n",
    "\n",
    "    Returns:\n",
    "    search.best_params_, search.best_score_\n",
    "    ''' \n",
    "    \n",
    "#     load in data\n",
    "    iris = load_iris()\n",
    "    X_train, X_test, y_train, y_test = train_test_split(\n",
    "        iris['data'], iris['target'], test_size=0.3\n",
    "    )\n",
    "    \n",
    "#     create pipeline\n",
    "    pipe = Pipeline([\n",
    "    ('transformer',PCA()),\n",
    "    ('classifier', RandomForestClassifier())\n",
    "    ])\n",
    "\n",
    "    # grid search on the pipeline\n",
    "    pipe_param_grid = {\n",
    "        'transformer__n_components': np.arange(1,2),\n",
    "        'transformer__svd_solver':['auto','full','arpack','randomized'],\n",
    "        'classifier__n_estimators': [10**2,10**3],\n",
    "        'classifier__max_depth': [5**2, 5**3]\n",
    "    }\n",
    "    pipe_gs = GridSearchCV(pipe, pipe_param_grid, verbose=1)\n",
    "    pipe_gs = pipe_gs.fit(X_train, y_train)\n",
    "\n",
    "    # report hyperparameters of the best estimator\n",
    "    return  pipe_gs.best_params_, pipe_gs.best_score_"
   ]
  },
  {
   "cell_type": "code",
   "execution_count": 14,
   "metadata": {},
   "outputs": [
    {
     "name": "stderr",
     "output_type": "stream",
     "text": [
      "/home/ethan/.local/lib/python3.7/site-packages/sklearn/model_selection/_split.py:1978: FutureWarning: The default value of cv will change from 3 to 5 in version 0.22. Specify it explicitly to silence this warning.\n",
      "  warnings.warn(CV_WARNING, FutureWarning)\n",
      "[Parallel(n_jobs=1)]: Using backend SequentialBackend with 1 concurrent workers.\n"
     ]
    },
    {
     "name": "stdout",
     "output_type": "stream",
     "text": [
      "Fitting 3 folds for each of 16 candidates, totalling 48 fits\n"
     ]
    },
    {
     "name": "stderr",
     "output_type": "stream",
     "text": [
      "[Parallel(n_jobs=1)]: Done  48 out of  48 | elapsed:   23.5s finished\n",
      "/home/ethan/.local/lib/python3.7/site-packages/sklearn/model_selection/_search.py:814: DeprecationWarning: The default of the `iid` parameter will change from True to False in version 0.22 and will be removed in 0.24. This will change numeric results when test-set sizes are unequal.\n",
      "  DeprecationWarning)\n"
     ]
    },
    {
     "data": {
      "text/plain": [
       "({'classifier__max_depth': 25,\n",
       "  'classifier__n_estimators': 100,\n",
       "  'transformer__n_components': 1,\n",
       "  'transformer__svd_solver': 'auto'},\n",
       " 0.8952380952380953)"
      ]
     },
     "execution_count": 14,
     "metadata": {},
     "output_type": "execute_result"
    }
   ],
   "source": [
    "prob6()"
   ]
  },
  {
   "cell_type": "code",
   "execution_count": null,
   "metadata": {},
   "outputs": [],
   "source": []
  }
 ],
 "metadata": {
  "kernelspec": {
   "display_name": "Python 3",
   "language": "python",
   "name": "python3"
  },
  "language_info": {
   "codemirror_mode": {
    "name": "ipython",
    "version": 3
   },
   "file_extension": ".py",
   "mimetype": "text/x-python",
   "name": "python",
   "nbconvert_exporter": "python",
   "pygments_lexer": "ipython3",
   "version": "3.7.5"
  }
 },
 "nbformat": 4,
 "nbformat_minor": 2
}